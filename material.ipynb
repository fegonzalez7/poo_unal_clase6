{
 "cells": [
  {
   "cell_type": "code",
   "execution_count": 2,
   "metadata": {},
   "outputs": [],
   "source": [
    "class Point:\n",
    "    pass"
   ]
  },
  {
   "cell_type": "code",
   "execution_count": 3,
   "metadata": {},
   "outputs": [
    {
     "name": "stdout",
     "output_type": "stream",
     "text": [
      "<__main__.Point object at 0x7fa620609460>\n"
     ]
    }
   ],
   "source": [
    "point = Point()\n",
    "print(point)"
   ]
  },
  {
   "cell_type": "code",
   "execution_count": 9,
   "metadata": {},
   "outputs": [],
   "source": [
    "class Point:\n",
    "    x: int\n",
    "    y: int"
   ]
  },
  {
   "cell_type": "code",
   "execution_count": 14,
   "metadata": {},
   "outputs": [
    {
     "name": "stdout",
     "output_type": "stream",
     "text": [
      "Entidad geometrica abstracta que representa una ubicación en un espacio.\n"
     ]
    }
   ],
   "source": [
    "class Point:\n",
    "    definition: str = \"Entidad geometrica abstracta que representa una ubicación en un espacio.\"\n",
    "\n",
    "point = Point()\n",
    "print(point.definition)"
   ]
  },
  {
   "cell_type": "code",
   "execution_count": 18,
   "metadata": {},
   "outputs": [
    {
     "name": "stdout",
     "output_type": "stream",
     "text": [
      "Entidad geometrica abstracta que representa una ubicación en un espacio. 1 1\n",
      "2 2\n",
      "0 0\n"
     ]
    }
   ],
   "source": [
    "class Point:\n",
    "    definition: str = \"Entidad geometrica abstracta que representa una ubicación en un espacio.\"\n",
    "    def __init__(self, x=0, y=0):\n",
    "        self.x = x\n",
    "        self.y = y\n",
    "    def move(self, new_x, new_y):\n",
    "        self.x = new_x\n",
    "        self.y = new_y\n",
    "    def reset(self):\n",
    "        self.x = 0\n",
    "        self.y = 0\n",
    "\n",
    "\n",
    "point = Point(x=1, y=1)\n",
    "print(point.definition, point.x, point.y)\n",
    "point.move(new_x=2, new_y=2)\n",
    "print(point.x, point.y)\n",
    "point.reset()\n",
    "print(point.x, point.y)"
   ]
  }
 ],
 "metadata": {
  "kernelspec": {
   "display_name": "Python 3",
   "language": "python",
   "name": "python3"
  },
  "language_info": {
   "codemirror_mode": {
    "name": "ipython",
    "version": 3
   },
   "file_extension": ".py",
   "mimetype": "text/x-python",
   "name": "python",
   "nbconvert_exporter": "python",
   "pygments_lexer": "ipython3",
   "version": "3.8.10"
  }
 },
 "nbformat": 4,
 "nbformat_minor": 2
}
