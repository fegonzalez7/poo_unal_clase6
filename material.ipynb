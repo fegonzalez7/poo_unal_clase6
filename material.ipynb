{
 "cells": [
  {
   "cell_type": "code",
   "execution_count": 2,
   "metadata": {},
   "outputs": [],
   "source": [
    "class Point:\n",
    "  pass"
   ]
  },
  {
   "cell_type": "code",
   "execution_count": 3,
   "metadata": {},
   "outputs": [
    {
     "name": "stdout",
     "output_type": "stream",
     "text": [
      "<__main__.Point object at 0x7fa620609460>\n"
     ]
    }
   ],
   "source": [
    "point = Point()\n",
    "print(point)"
   ]
  },
  {
   "cell_type": "code",
   "execution_count": 9,
   "metadata": {},
   "outputs": [],
   "source": [
    "class Point:\n",
    "  x: int\n",
    "  y: int"
   ]
  },
  {
   "cell_type": "code",
   "execution_count": 14,
   "metadata": {},
   "outputs": [
    {
     "name": "stdout",
     "output_type": "stream",
     "text": [
      "Entidad geometrica abstracta que representa una ubicación en un espacio.\n"
     ]
    }
   ],
   "source": [
    "class Point:\n",
    "  definition: str = \"Entidad geometrica abstracta que representa una ubicación en un espacio.\"\n",
    "\n",
    "point = Point()\n",
    "print(point.definition)"
   ]
  },
  {
   "cell_type": "code",
   "execution_count": 18,
   "metadata": {},
   "outputs": [
    {
     "name": "stdout",
     "output_type": "stream",
     "text": [
      "Entidad geometrica abstracta que representa una ubicación en un espacio. 1 1\n",
      "2 2\n",
      "0 0\n"
     ]
    }
   ],
   "source": [
    "class Point:\n",
    "  definition: str = \"Entidad geometrica abstracta que representa una ubicación en un espacio.\"\n",
    "  def __init__(self, x=0, y=0):\n",
    "    self.x = x\n",
    "    self.y = y\n",
    "  def move(self, new_x, new_y):\n",
    "    self.x = new_x\n",
    "    self.y = new_y\n",
    "  def reset(self):\n",
    "    self.x = 0\n",
    "    self.y = 0\n",
    "\n",
    "\n",
    "point = Point(x=1, y=1)\n",
    "print(point.definition, point.x, point.y)\n",
    "point.move(new_x=2, new_y=2)\n",
    "print(point.x, point.y)\n",
    "point.reset()\n",
    "print(point.x, point.y)"
   ]
  },
  {
   "cell_type": "code",
   "execution_count": 3,
   "metadata": {},
   "outputs": [
    {
     "name": "stdout",
     "output_type": "stream",
     "text": [
      "1.4142135623730951\n"
     ]
    }
   ],
   "source": [
    "class Point:\n",
    "  definition: str = \"Entidad geometrica abstracta que representa una ubicación en un espacio.\"\n",
    "  def __init__(self, x: float=0, y: float=0):\n",
    "    self.x = x\n",
    "    self.y = y\n",
    "  def move(self, new_x: float, new_y: float):\n",
    "    self.x = new_x\n",
    "    self.y = new_y\n",
    "  def reset(self):\n",
    "    self.x = 0\n",
    "    self.y = 0\n",
    "  def compute_distance(self, point)-> float:\n",
    "    distance = ((self.x - point.x)**2+(self.y - point.y)**2)**(0.5)\n",
    "    return distance\n",
    "\n",
    "first_point = Point(x=1, y=1)\n",
    "second_point = Point(x=2, y=2)\n",
    "# should be root of 2 (?)\n",
    "print(first_point.compute_distance(second_point))"
   ]
  }
 ],
 "metadata": {
  "kernelspec": {
   "display_name": "Python 3",
   "language": "python",
   "name": "python3"
  },
  "language_info": {
   "codemirror_mode": {
    "name": "ipython",
    "version": 3
   },
   "file_extension": ".py",
   "mimetype": "text/x-python",
   "name": "python",
   "nbconvert_exporter": "python",
   "pygments_lexer": "ipython3",
   "version": "3.8.10"
  }
 },
 "nbformat": 4,
 "nbformat_minor": 2
}
